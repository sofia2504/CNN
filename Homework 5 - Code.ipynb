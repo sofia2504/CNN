{
  "nbformat": 4,
  "nbformat_minor": 0,
  "metadata": {
    "colab": {
      "provenance": []
    },
    "kernelspec": {
      "name": "python3",
      "display_name": "Python 3"
    },
    "language_info": {
      "name": "python"
    }
  },
  "cells": [
    {
      "cell_type": "markdown",
      "source": [
        "Question 1"
      ],
      "metadata": {
        "id": "qZh6c3MR148R"
      }
    },
    {
      "cell_type": "code",
      "execution_count": 3,
      "metadata": {
        "id": "AWkRlptt1Zp4"
      },
      "outputs": [],
      "source": [
        "import torch\n",
        "from torchvision import datasets, transforms\n",
        "from matplotlib import pyplot as plt\n",
        "import torch.nn as nn\n",
        "import torch.optim as optim"
      ]
    },
    {
      "cell_type": "code",
      "source": [
        "# Define the transformation\n",
        "transform = transforms.Compose([\n",
        "    transforms.ToTensor(),\n",
        "    transforms.Normalize((0.5,), (0.5,))\n",
        "])\n",
        "\n",
        "# Load datasets\n",
        "trainset = datasets.FashionMNIST('~/.pytorch/F_MNIST_data/', download=True, train=True, transform=transform)\n",
        "trainloader = torch.utils.data.DataLoader(trainset, batch_size=32, shuffle=True)\n",
        "\n",
        "testset = datasets.FashionMNIST('~/.pytorch/F_MNIST_data/', download=True, train=False, transform=transform)\n",
        "testloader = torch.utils.data.DataLoader(testset, batch_size=32, shuffle=False)\n",
        "\n",
        "# Verify dataset loading\n",
        "batch = next(iter(trainloader))\n",
        "print(batch[0].shape, batch[1].shape)\n",
        "\n",
        "# Visualize images\n",
        "f, ax = plt.subplots(2, 5)\n",
        "plt.subplots_adjust(bottom=0.3, top=0.7, hspace=0)\n",
        "\n",
        "for i in range(2):\n",
        "    for j in range(5):\n",
        "        image, label = next(iter(trainloader))\n",
        "        ax[i][j].set_axis_off()\n",
        "        ax[i][j].imshow(image[0,0,:], cmap='gray')\n",
        "\n",
        "plt.show()"
      ],
      "metadata": {
        "colab": {
          "base_uri": "https://localhost:8080/",
          "height": 611
        },
        "id": "Ok3sUizD1pkR",
        "outputId": "79ed68d3-a2bd-40d6-b827-22eea28562fc"
      },
      "execution_count": 7,
      "outputs": [
        {
          "output_type": "stream",
          "name": "stdout",
          "text": [
            "Downloading http://fashion-mnist.s3-website.eu-central-1.amazonaws.com/train-images-idx3-ubyte.gz\n",
            "Downloading http://fashion-mnist.s3-website.eu-central-1.amazonaws.com/train-images-idx3-ubyte.gz to /root/.pytorch/F_MNIST_data/FashionMNIST/raw/train-images-idx3-ubyte.gz\n"
          ]
        },
        {
          "output_type": "stream",
          "name": "stderr",
          "text": [
            "100%|██████████| 26.4M/26.4M [00:04<00:00, 6.52MB/s]\n"
          ]
        },
        {
          "output_type": "stream",
          "name": "stdout",
          "text": [
            "Extracting /root/.pytorch/F_MNIST_data/FashionMNIST/raw/train-images-idx3-ubyte.gz to /root/.pytorch/F_MNIST_data/FashionMNIST/raw\n",
            "\n",
            "Downloading http://fashion-mnist.s3-website.eu-central-1.amazonaws.com/train-labels-idx1-ubyte.gz\n",
            "Downloading http://fashion-mnist.s3-website.eu-central-1.amazonaws.com/train-labels-idx1-ubyte.gz to /root/.pytorch/F_MNIST_data/FashionMNIST/raw/train-labels-idx1-ubyte.gz\n"
          ]
        },
        {
          "output_type": "stream",
          "name": "stderr",
          "text": [
            "100%|██████████| 29.5k/29.5k [00:00<00:00, 140kB/s]\n"
          ]
        },
        {
          "output_type": "stream",
          "name": "stdout",
          "text": [
            "Extracting /root/.pytorch/F_MNIST_data/FashionMNIST/raw/train-labels-idx1-ubyte.gz to /root/.pytorch/F_MNIST_data/FashionMNIST/raw\n",
            "\n",
            "Downloading http://fashion-mnist.s3-website.eu-central-1.amazonaws.com/t10k-images-idx3-ubyte.gz\n",
            "Downloading http://fashion-mnist.s3-website.eu-central-1.amazonaws.com/t10k-images-idx3-ubyte.gz to /root/.pytorch/F_MNIST_data/FashionMNIST/raw/t10k-images-idx3-ubyte.gz\n"
          ]
        },
        {
          "output_type": "stream",
          "name": "stderr",
          "text": [
            "100%|██████████| 4.42M/4.42M [00:01<00:00, 2.55MB/s]\n"
          ]
        },
        {
          "output_type": "stream",
          "name": "stdout",
          "text": [
            "Extracting /root/.pytorch/F_MNIST_data/FashionMNIST/raw/t10k-images-idx3-ubyte.gz to /root/.pytorch/F_MNIST_data/FashionMNIST/raw\n",
            "\n",
            "Downloading http://fashion-mnist.s3-website.eu-central-1.amazonaws.com/t10k-labels-idx1-ubyte.gz\n",
            "Downloading http://fashion-mnist.s3-website.eu-central-1.amazonaws.com/t10k-labels-idx1-ubyte.gz to /root/.pytorch/F_MNIST_data/FashionMNIST/raw/t10k-labels-idx1-ubyte.gz\n"
          ]
        },
        {
          "output_type": "stream",
          "name": "stderr",
          "text": [
            "100%|██████████| 5.15k/5.15k [00:00<00:00, 9.57MB/s]\n"
          ]
        },
        {
          "output_type": "stream",
          "name": "stdout",
          "text": [
            "Extracting /root/.pytorch/F_MNIST_data/FashionMNIST/raw/t10k-labels-idx1-ubyte.gz to /root/.pytorch/F_MNIST_data/FashionMNIST/raw\n",
            "\n",
            "torch.Size([32, 1, 28, 28]) torch.Size([32])\n"
          ]
        },
        {
          "output_type": "display_data",
          "data": {
            "text/plain": [
              "<Figure size 640x480 with 10 Axes>"
            ],
            "image/png": "[encoded data removed]"
          },
          "metadata": {}
        }
      ]
    },
    {
      "cell_type": "markdown",
      "source": [
        "Question 2"
      ],
      "metadata": {
        "id": "S9HlmZSv2Zgb"
      }
    },
    {
      "cell_type": "code",
      "source": [
        "# Flatten the data (28x28 -> 784)\n",
        "input_size = 784\n",
        "num_classes = 10\n",
        "\n",
        "# Define different network structures\n",
        "class MLP(nn.Module):\n",
        "    def __init__(self, structure, activation):\n",
        "        super(MLP, self).__init__()\n",
        "        layers = []\n",
        "        for i in range(len(structure)-1):\n",
        "            layers.append(nn.Linear(structure[i], structure[i+1]))\n",
        "            if i < len(structure)-2:\n",
        "                if activation == 'relu':\n",
        "                    layers.append(nn.ReLU())\n",
        "                elif activation == 'tanh':\n",
        "                    layers.append(nn.Tanh())\n",
        "                elif activation == 'sigmoid':\n",
        "                    layers.append(nn.Sigmoid())\n",
        "        self.model = nn.Sequential(*layers)\n",
        "\n",
        "    def forward(self, x):\n",
        "        x = x.view(-1, 784)  # Flatten the input\n",
        "        return self.model(x)\n",
        "\n",
        "def train_and_evaluate(model, trainloader, testloader, epochs=10):\n",
        "    criterion = nn.CrossEntropyLoss()\n",
        "    optimizer = optim.Adam(model.parameters(), lr=0.001)\n",
        "\n",
        "    # Training\n",
        "    model.train()\n",
        "    for epoch in range(epochs):\n",
        "        running_loss = 0.0\n",
        "        correct = 0\n",
        "        total = 0\n",
        "        for images, labels in trainloader:\n",
        "            optimizer.zero_grad()\n",
        "            outputs = model(images)\n",
        "            loss = criterion(outputs, labels)\n",
        "            loss.backward()\n",
        "            optimizer.step()\n",
        "\n",
        "            _, predicted = torch.max(outputs.data, 1)\n",
        "            total += labels.size(0)\n",
        "            correct += (predicted == labels).sum().item()\n",
        "            running_loss += loss.item()\n",
        "\n",
        "        train_accuracy = 100 * correct / total\n",
        "\n",
        "        # Testing accuracy\n",
        "        model.eval()\n",
        "        correct = 0\n",
        "        total = 0\n",
        "        with torch.no_grad():\n",
        "            for images, labels in testloader:\n",
        "                outputs = model(images)\n",
        "                _, predicted = torch.max(outputs.data, 1)\n",
        "                total += labels.size(0)\n",
        "                correct += (predicted == labels).sum().item()\n",
        "        test_accuracy = 100 * correct / total\n",
        "\n",
        "        print(f'Epoch {epoch+1}: Train Acc: {train_accuracy:.2f}%, Test Acc: {test_accuracy:.2f}%')\n",
        "\n",
        "# Different network structures to try\n",
        "structures = [\n",
        "    [784, 128, 10],\n",
        "    [784, 256, 128, 10],\n",
        "    [784, 512, 256, 128, 10],\n",
        "    [784, 128, 64, 32, 10],\n",
        "    [784, 1024, 512, 10]\n",
        "]\n",
        "\n",
        "print(\"Testing different network structures with ReLU activation:\")\n",
        "for structure in structures:\n",
        "    print(f\"\\nStructure: {structure}\")\n",
        "    model = MLP(structure, 'relu')\n",
        "    train_and_evaluate(model, trainloader, testloader)\n",
        "\n",
        "# Test different activations on best structure\n",
        "best_structure = [784, 512, 256, 128, 10]  # Replace with your best structure\n",
        "activations = ['relu', 'tanh', 'sigmoid']\n",
        "\n",
        "print(\"\\nTesting different activation functions on best structure:\")\n",
        "for activation in activations:\n",
        "    print(f\"\\nActivation: {activation}\")\n",
        "    model = MLP(best_structure, activation)\n",
        "    train_and_evaluate(model, trainloader, testloader)"
      ],
      "metadata": {
        "colab": {
          "base_uri": "https://localhost:8080/"
        },
        "id": "nIzqOL8P2dOA",
        "outputId": "93ea6ce7-99c8-4f24-b875-ec1239d35d67"
      },
      "execution_count": 9,
      "outputs": [
        {
          "output_type": "stream",
          "name": "stdout",
          "text": [
            "Testing different network structures with ReLU activation:\n",
            "\n",
            "Structure: [784, 128, 10]\n",
            "Epoch 1: Train Acc: 82.46%, Test Acc: 84.47%\n",
            "Epoch 2: Train Acc: 86.24%, Test Acc: 85.89%\n",
            "Epoch 3: Train Acc: 87.68%, Test Acc: 86.58%\n",
            "Epoch 4: Train Acc: 88.37%, Test Acc: 86.75%\n",
            "Epoch 5: Train Acc: 89.05%, Test Acc: 87.39%\n",
            "Epoch 6: Train Acc: 89.50%, Test Acc: 87.39%\n",
            "Epoch 7: Train Acc: 89.96%, Test Acc: 86.94%\n",
            "Epoch 8: Train Acc: 90.39%, Test Acc: 87.84%\n",
            "Epoch 9: Train Acc: 90.57%, Test Acc: 87.70%\n",
            "Epoch 10: Train Acc: 91.02%, Test Acc: 87.91%\n",
            "\n",
            "Structure: [784, 256, 128, 10]\n",
            "Epoch 1: Train Acc: 82.15%, Test Acc: 85.48%\n",
            "Epoch 2: Train Acc: 86.26%, Test Acc: 85.59%\n",
            "Epoch 3: Train Acc: 88.01%, Test Acc: 86.66%\n",
            "Epoch 4: Train Acc: 88.64%, Test Acc: 87.10%\n",
            "Epoch 5: Train Acc: 89.31%, Test Acc: 87.59%\n",
            "Epoch 6: Train Acc: 89.76%, Test Acc: 87.36%\n",
            "Epoch 7: Train Acc: 90.19%, Test Acc: 87.39%\n",
            "Epoch 8: Train Acc: 90.65%, Test Acc: 87.05%\n",
            "Epoch 9: Train Acc: 91.08%, Test Acc: 88.29%\n",
            "Epoch 10: Train Acc: 91.31%, Test Acc: 88.03%\n",
            "\n",
            "Structure: [784, 512, 256, 128, 10]\n",
            "Epoch 1: Train Acc: 81.81%, Test Acc: 84.20%\n",
            "Epoch 2: Train Acc: 86.11%, Test Acc: 85.15%\n",
            "Epoch 3: Train Acc: 87.77%, Test Acc: 85.94%\n",
            "Epoch 4: Train Acc: 88.49%, Test Acc: 85.72%\n",
            "Epoch 5: Train Acc: 89.19%, Test Acc: 87.23%\n",
            "Epoch 6: Train Acc: 89.86%, Test Acc: 87.25%\n",
            "Epoch 7: Train Acc: 90.21%, Test Acc: 88.21%\n",
            "Epoch 8: Train Acc: 90.73%, Test Acc: 88.10%\n",
            "Epoch 9: Train Acc: 91.01%, Test Acc: 87.73%\n",
            "Epoch 10: Train Acc: 91.45%, Test Acc: 88.17%\n",
            "\n",
            "Structure: [784, 128, 64, 32, 10]\n",
            "Epoch 1: Train Acc: 80.83%, Test Acc: 83.90%\n",
            "Epoch 2: Train Acc: 85.79%, Test Acc: 85.51%\n",
            "Epoch 3: Train Acc: 87.08%, Test Acc: 85.33%\n",
            "Epoch 4: Train Acc: 88.02%, Test Acc: 87.15%\n",
            "Epoch 5: Train Acc: 88.75%, Test Acc: 86.62%\n",
            "Epoch 6: Train Acc: 89.24%, Test Acc: 87.60%\n",
            "Epoch 7: Train Acc: 89.89%, Test Acc: 87.77%\n",
            "Epoch 8: Train Acc: 90.12%, Test Acc: 87.42%\n",
            "Epoch 9: Train Acc: 90.39%, Test Acc: 87.73%\n",
            "Epoch 10: Train Acc: 90.85%, Test Acc: 87.68%\n",
            "\n",
            "Structure: [784, 1024, 512, 10]\n",
            "Epoch 1: Train Acc: 82.24%, Test Acc: 84.67%\n",
            "Epoch 2: Train Acc: 86.24%, Test Acc: 85.58%\n",
            "Epoch 3: Train Acc: 87.77%, Test Acc: 86.76%\n",
            "Epoch 4: Train Acc: 88.62%, Test Acc: 86.21%\n",
            "Epoch 5: Train Acc: 89.38%, Test Acc: 87.55%\n",
            "Epoch 6: Train Acc: 89.92%, Test Acc: 87.76%\n",
            "Epoch 7: Train Acc: 90.31%, Test Acc: 87.91%\n",
            "Epoch 8: Train Acc: 90.95%, Test Acc: 87.97%\n",
            "Epoch 9: Train Acc: 91.21%, Test Acc: 87.73%\n",
            "Epoch 10: Train Acc: 91.66%, Test Acc: 88.59%\n",
            "\n",
            "Testing different activation functions on best structure:\n",
            "\n",
            "Activation: relu\n",
            "Epoch 1: Train Acc: 81.84%, Test Acc: 84.37%\n",
            "Epoch 2: Train Acc: 85.98%, Test Acc: 85.50%\n",
            "Epoch 3: Train Acc: 87.53%, Test Acc: 86.79%\n",
            "Epoch 4: Train Acc: 88.45%, Test Acc: 86.98%\n",
            "Epoch 5: Train Acc: 89.23%, Test Acc: 87.08%\n",
            "Epoch 6: Train Acc: 89.70%, Test Acc: 86.73%\n",
            "Epoch 7: Train Acc: 90.44%, Test Acc: 87.99%\n",
            "Epoch 8: Train Acc: 90.58%, Test Acc: 87.68%\n",
            "Epoch 9: Train Acc: 91.13%, Test Acc: 88.66%\n",
            "Epoch 10: Train Acc: 91.43%, Test Acc: 88.57%\n",
            "\n",
            "Activation: tanh\n",
            "Epoch 1: Train Acc: 81.22%, Test Acc: 83.35%\n",
            "Epoch 2: Train Acc: 84.90%, Test Acc: 84.41%\n",
            "Epoch 3: Train Acc: 85.70%, Test Acc: 84.22%\n",
            "Epoch 4: Train Acc: 86.24%, Test Acc: 84.85%\n",
            "Epoch 5: Train Acc: 86.59%, Test Acc: 86.26%\n",
            "Epoch 6: Train Acc: 87.11%, Test Acc: 84.80%\n",
            "Epoch 7: Train Acc: 87.14%, Test Acc: 85.40%\n",
            "Epoch 8: Train Acc: 87.34%, Test Acc: 85.63%\n",
            "Epoch 9: Train Acc: 87.34%, Test Acc: 84.12%\n",
            "Epoch 10: Train Acc: 87.45%, Test Acc: 85.59%\n",
            "\n",
            "Activation: sigmoid\n",
            "Epoch 1: Train Acc: 75.71%, Test Acc: 82.74%\n",
            "Epoch 2: Train Acc: 85.43%, Test Acc: 84.62%\n",
            "Epoch 3: Train Acc: 87.11%, Test Acc: 86.23%\n",
            "Epoch 4: Train Acc: 87.92%, Test Acc: 86.69%\n",
            "Epoch 5: Train Acc: 88.71%, Test Acc: 87.20%\n",
            "Epoch 6: Train Acc: 89.23%, Test Acc: 85.49%\n",
            "Epoch 7: Train Acc: 89.72%, Test Acc: 86.96%\n",
            "Epoch 8: Train Acc: 90.10%, Test Acc: 87.33%\n",
            "Epoch 9: Train Acc: 90.45%, Test Acc: 87.51%\n",
            "Epoch 10: Train Acc: 90.88%, Test Acc: 87.36%\n"
          ]
        }
      ]
    },
    {
      "cell_type": "markdown",
      "source": [
        "Question 3"
      ],
      "metadata": {
        "id": "YILicQ1dF4tR"
      }
    },
    {
      "cell_type": "markdown",
      "source": [
        "Implementation a-e and some Experimentation"
      ],
      "metadata": {
        "id": "fTVlLXjh4UCD"
      }
    },
    {
      "cell_type": "code",
      "source": [
        "# Set device\n",
        "device = torch.device('cuda' if torch.cuda.is_available() else 'cpu')\n",
        "\n",
        "# Implementation a-e: Baseline CNN\n",
        "class CNN(nn.Module):\n",
        "    def __init__(self, dropout_rate=0, num_conv_layers=1):\n",
        "        super(CNN, self).__init__()\n",
        "\n",
        "        # Implementation a: First conv layer\n",
        "        self.conv1 = nn.Conv2d(1, 32, 3)\n",
        "\n",
        "        # Implementation b: First maxpool\n",
        "        self.pool = nn.MaxPool2d(2, 2)\n",
        "\n",
        "        # Experimentation c: Optional second conv layer\n",
        "        self.num_conv_layers = num_conv_layers\n",
        "        if num_conv_layers > 1:\n",
        "            self.conv2 = nn.Conv2d(32, 64, 3)\n",
        "\n",
        "        # Calculate flattened size\n",
        "        self.flat_size = 32 * 13 * 13 if num_conv_layers == 1 else 64 * 5 * 5\n",
        "\n",
        "        # Experimentation b: Dropout layer\n",
        "        self.dropout = nn.Dropout(dropout_rate)\n",
        "\n",
        "        # Implementation d: Dense layer with ReLU\n",
        "        self.fc1 = nn.Linear(self.flat_size, 100)\n",
        "\n",
        "        # Implementation e: Output layer\n",
        "        self.fc2 = nn.Linear(100, 10)\n",
        "\n",
        "    def forward(self, x):\n",
        "        x = self.pool(torch.relu(self.conv1(x)))\n",
        "\n",
        "        if self.num_conv_layers > 1:\n",
        "            x = self.pool(torch.relu(self.conv2(x)))\n",
        "\n",
        "        # Implementation c: Flatten layer\n",
        "        x = x.view(-1, self.flat_size)\n",
        "\n",
        "        x = self.dropout(x)\n",
        "        x = torch.relu(self.fc1(x))\n",
        "        x = self.fc2(x)\n",
        "        return x\n",
        "\n",
        "def train_and_evaluate(model, trainloader, testloader, epochs, lr=0.01, store_metrics=False):\n",
        "    model = model.to(device)\n",
        "    criterion = nn.CrossEntropyLoss()\n",
        "    optimizer = optim.SGD(model.parameters(), lr=lr, momentum=0.9)\n",
        "\n",
        "    train_acc_history = []\n",
        "    test_acc_history = []\n",
        "\n",
        "    for epoch in range(epochs):\n",
        "        # Training\n",
        "        model.train()\n",
        "        correct = 0\n",
        "        total = 0\n",
        "        for images, labels in trainloader:\n",
        "            images, labels = images.to(device), labels.to(device)\n",
        "            optimizer.zero_grad()\n",
        "            outputs = model(images)\n",
        "            loss = criterion(outputs, labels)\n",
        "            loss.backward()\n",
        "            optimizer.step()\n",
        "\n",
        "            _, predicted = torch.max(outputs.data, 1)\n",
        "            total += labels.size(0)\n",
        "            correct += (predicted == labels).sum().item()\n",
        "\n",
        "        train_acc = 100 * correct / total\n",
        "\n",
        "        # Testing\n",
        "        model.eval()\n",
        "        correct = 0\n",
        "        total = 0\n",
        "        with torch.no_grad():\n",
        "            for images, labels in testloader:\n",
        "                images, labels = images.to(device), labels.to(device)\n",
        "                outputs = model(images)\n",
        "                _, predicted = torch.max(outputs.data, 1)\n",
        "                total += labels.size(0)\n",
        "                correct += (predicted == labels).sum().item()\n",
        "\n",
        "        test_acc = 100 * correct / total\n",
        "\n",
        "        if store_metrics:\n",
        "            train_acc_history.append(train_acc)\n",
        "            test_acc_history.append(test_acc)\n",
        "\n",
        "        if (epoch + 1) % 10 == 0 or epoch == epochs-1:\n",
        "            print(f'Epoch {epoch+1}: Train Acc: {train_acc:.2f}%, Test Acc: {test_acc:.2f}%')\n",
        "\n",
        "    if store_metrics:\n",
        "        return train_acc_history, test_acc_history\n",
        "    return test_acc"
      ],
      "metadata": {
        "id": "h6H1JZDS4hFu"
      },
      "execution_count": 14,
      "outputs": []
    },
    {
      "cell_type": "code",
      "source": [
        "def plot_accuracies(train_acc, test_acc, title):\n",
        "    plt.figure(figsize=(10, 6))\n",
        "    epochs = range(10, len(train_acc) * 10 + 1, 10)\n",
        "    plt.plot(epochs, train_acc, 'b-', label='Training Accuracy')\n",
        "    plt.plot(epochs, test_acc, 'r-', label='Validation Accuracy')\n",
        "    plt.title(title)\n",
        "    plt.xlabel('Epoch')\n",
        "    plt.ylabel('Accuracy (%)')\n",
        "    plt.legend()\n",
        "    plt.grid(True)\n",
        "    plt.savefig(f'{title}.png')\n",
        "    plt.close()"
      ],
      "metadata": {
        "id": "ALqmmk5F4tgX"
      },
      "execution_count": 15,
      "outputs": []
    },
    {
      "cell_type": "code",
      "source": [
        "# Baseline training (10 epochs)\n",
        "print(\"Training baseline CNN for 10 epochs:\")\n",
        "model = CNN()\n",
        "test_acc = train_and_evaluate(model, trainloader, testloader, epochs=10)\n",
        "print(f\"Final test accuracy: {test_acc:.2f}%\")"
      ],
      "metadata": {
        "colab": {
          "base_uri": "https://localhost:8080/"
        },
        "id": "IdI4v-V64v49",
        "outputId": "b561a9b2-3303-42d1-af99-89960cd67d87"
      },
      "execution_count": 16,
      "outputs": [
        {
          "output_type": "stream",
          "name": "stdout",
          "text": [
            "Training baseline CNN for 10 epochs:\n",
            "Epoch 10: Train Acc: 96.27%, Test Acc: 90.80%\n",
            "Final test accuracy: 90.80%\n"
          ]
        }
      ]
    },
    {
      "cell_type": "markdown",
      "source": [
        "Experimentation a"
      ],
      "metadata": {
        "id": "_04pSoEuE7Wk"
      }
    },
    {
      "cell_type": "code",
      "source": [
        "# Experimentation a: 50 epochs baseline\n",
        "print(\"\\nTraining CNN for 50 epochs:\")\n",
        "model = CNN()\n",
        "train_acc, test_acc = train_and_evaluate(model, trainloader, testloader, epochs=50, store_metrics=True)\n",
        "plot_accuracies(train_acc[::10], test_acc[::10], \"Baseline CNN Performance\")"
      ],
      "metadata": {
        "colab": {
          "base_uri": "https://localhost:8080/"
        },
        "id": "1o0SB7IdZQCX",
        "outputId": "c8262d84-bf4b-4ecb-f350-c3d3a5e0232a"
      },
      "execution_count": 21,
      "outputs": [
        {
          "output_type": "stream",
          "name": "stdout",
          "text": [
            "\n",
            "Training CNN for 50 epochs:\n",
            "Epoch 10: Train Acc: 96.32%, Test Acc: 91.15%\n",
            "Epoch 20: Train Acc: 98.71%, Test Acc: 90.26%\n",
            "Epoch 30: Train Acc: 99.50%, Test Acc: 90.92%\n",
            "Epoch 40: Train Acc: 100.00%, Test Acc: 91.76%\n",
            "Epoch 50: Train Acc: 100.00%, Test Acc: 91.80%\n"
          ]
        }
      ]
    },
    {
      "cell_type": "markdown",
      "source": [
        "Experimentation b"
      ],
      "metadata": {
        "id": "k-NkiH8wH9P-"
      }
    },
    {
      "cell_type": "code",
      "source": [
        "# Experimentation b: 50 epochs with dropout\n",
        "print(\"\\nTraining CNN for 50 epochs with dropout:\")\n",
        "model = CNN(dropout_rate=0.5)\n",
        "train_acc, test_acc = train_and_evaluate(model, trainloader, testloader, epochs=50, store_metrics=True)\n",
        "plot_accuracies(train_acc[::10], test_acc[::10], \"CNN Performance with Dropout\")"
      ],
      "metadata": {
        "colab": {
          "base_uri": "https://localhost:8080/"
        },
        "id": "CBV8emZ8H_SM",
        "outputId": "782f8cfb-0b84-4076-9905-9f0601ac1c82"
      },
      "execution_count": 17,
      "outputs": [
        {
          "output_type": "stream",
          "name": "stdout",
          "text": [
            "\n",
            "Training CNN for 50 epochs with dropout:\n",
            "Epoch 10: Train Acc: 92.78%, Test Acc: 91.29%\n",
            "Epoch 20: Train Acc: 94.81%, Test Acc: 91.22%\n",
            "Epoch 30: Train Acc: 95.79%, Test Acc: 91.72%\n",
            "Epoch 40: Train Acc: 96.21%, Test Acc: 91.63%\n",
            "Epoch 50: Train Acc: 96.72%, Test Acc: 91.41%\n"
          ]
        }
      ]
    },
    {
      "cell_type": "markdown",
      "source": [
        "Experimentation c"
      ],
      "metadata": {
        "id": "Hi2jO7HkU6JX"
      }
    },
    {
      "cell_type": "code",
      "source": [
        "# Experimentation c: Two conv layers\n",
        "print(\"\\nTraining CNN with two conv layers:\")\n",
        "model = CNN(dropout_rate=0.5, num_conv_layers=2)\n",
        "test_acc = train_and_evaluate(model, trainloader, testloader, epochs=10)\n",
        "print(f\"Final test accuracy with two conv layers: {test_acc:.2f}%\")"
      ],
      "metadata": {
        "colab": {
          "base_uri": "https://localhost:8080/"
        },
        "id": "E6jwyqoXU8PU",
        "outputId": "e48ebe93-319d-447b-ec92-34bfb27dda88"
      },
      "execution_count": 19,
      "outputs": [
        {
          "output_type": "stream",
          "name": "stdout",
          "text": [
            "\n",
            "Training CNN with two conv layers:\n",
            "Epoch 10: Train Acc: 90.89%, Test Acc: 90.72%\n",
            "Final test accuracy with two conv layers: 90.72%\n"
          ]
        }
      ]
    },
    {
      "cell_type": "markdown",
      "source": [
        "Experimentation d"
      ],
      "metadata": {
        "id": "opd72AZHYMML"
      }
    },
    {
      "cell_type": "code",
      "source": [
        "# Experimentation d: Different learning rates\n",
        "print(\"\\nTesting different learning rates:\")\n",
        "for lr in [0.001, 0.1]:\n",
        "    print(f\"\\nTraining with learning rate: {lr}\")\n",
        "    model = CNN(dropout_rate=0.5, num_conv_layers=2)\n",
        "    test_acc = train_and_evaluate(model, trainloader, testloader, epochs=10, lr=lr)\n",
        "    print(f\"Final test accuracy: {test_acc:.2f}%\")"
      ],
      "metadata": {
        "colab": {
          "base_uri": "https://localhost:8080/"
        },
        "id": "_b8ECqO7YNuW",
        "outputId": "e0450a3f-03a8-4050-edfd-845a16984890"
      },
      "execution_count": 20,
      "outputs": [
        {
          "output_type": "stream",
          "name": "stdout",
          "text": [
            "\n",
            "Testing different learning rates:\n",
            "\n",
            "Training with learning rate: 0.001\n",
            "Epoch 10: Train Acc: 87.39%, Test Acc: 88.23%\n",
            "Final test accuracy: 88.23%\n",
            "\n",
            "Training with learning rate: 0.1\n",
            "Epoch 10: Train Acc: 9.90%, Test Acc: 10.00%\n",
            "Final test accuracy: 10.00%\n"
          ]
        }
      ]
    }
  ]
}